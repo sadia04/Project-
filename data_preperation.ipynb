{
 "cells": [
  {
   "cell_type": "markdown",
   "id": "40fb7715-0e9b-466d-8610-c8504d8bd4db",
   "metadata": {},
   "source": [
    "# importing necessary libraries"
   ]
  },
  {
   "cell_type": "code",
   "execution_count": 1,
   "id": "a53ae52b-edc7-4e3a-8822-ff11f20c3f76",
   "metadata": {},
   "outputs": [],
   "source": [
    "import pandas as pd\n",
    "import seaborn as sns\n",
    "import matplotlib.pyplot as plt\n",
    "import numpy as np\n",
    "import warnings\n",
    "import nltk\n",
    "from nltk.corpus import sentiwordnet as swn\n",
    "from nltk.tokenize import word_tokenize\n",
    "from nltk.corpus import wordnet\n",
    "import re\n",
    "import nltk\n",
    "from nltk.corpus import stopwords\n",
    "from nltk import pos_tag\n",
    "from nltk.corpus import wordnet as wn\n",
    "from nltk.stem import WordNetLemmatizer\n",
    "from nltk.sentiment.vader import SentimentIntensityAnalyzer\n",
    "from nltk.tokenize import word_tokenize\n",
    "warnings.filterwarnings('ignore')\n",
    "import re\n",
    "from nltk.corpus import stopwords\n",
    "from nltk.tokenize import word_tokenize\n",
    "from nltk.stem import WordNetLemmatizer\n",
    "import json \n",
    "from plotly.subplots import make_subplots\n",
    "import plotly.graph_objects as go\n",
    "from plotly.offline import iplot\n",
    "import plotly.express as px\n",
    "from sklearn.feature_extraction.text import CountVectorizer"
   ]
  },
  {
   "cell_type": "markdown",
   "id": "a4ea4257-3cd2-4d65-8483-56e901204424",
   "metadata": {},
   "source": [
    "# loading meta data and converting into data frame"
   ]
  },
  {
   "cell_type": "code",
   "execution_count": 2,
   "id": "f69246c1-7b82-4f71-9789-6c2fdf710ce2",
   "metadata": {
    "scrolled": true
   },
   "outputs": [],
   "source": [
    "\n",
    "data=[]\n",
    "\n",
    "file = \"meta_All_Beauty.jsonl\"\n",
    "with open(file, 'r') as fp:\n",
    "    for line in fp:\n",
    "        data.append(json.loads(line.strip()))\n",
    "\n",
    "# Convert the list of dictionaries to a DataFrame\n",
    "meta = pd.DataFrame(data)\n"
   ]
  },
  {
   "cell_type": "code",
   "execution_count": 3,
   "id": "929410e2-4c74-49b4-a548-905c1f9b732a",
   "metadata": {
    "scrolled": true
   },
   "outputs": [
    {
     "data": {
      "text/html": [
       "<div>\n",
       "<style scoped>\n",
       "    .dataframe tbody tr th:only-of-type {\n",
       "        vertical-align: middle;\n",
       "    }\n",
       "\n",
       "    .dataframe tbody tr th {\n",
       "        vertical-align: top;\n",
       "    }\n",
       "\n",
       "    .dataframe thead th {\n",
       "        text-align: right;\n",
       "    }\n",
       "</style>\n",
       "<table border=\"1\" class=\"dataframe\">\n",
       "  <thead>\n",
       "    <tr style=\"text-align: right;\">\n",
       "      <th></th>\n",
       "      <th>main_category</th>\n",
       "      <th>title</th>\n",
       "      <th>average_rating</th>\n",
       "      <th>rating_number</th>\n",
       "      <th>features</th>\n",
       "      <th>description</th>\n",
       "      <th>price</th>\n",
       "      <th>images</th>\n",
       "      <th>videos</th>\n",
       "      <th>store</th>\n",
       "      <th>categories</th>\n",
       "      <th>details</th>\n",
       "      <th>parent_asin</th>\n",
       "      <th>bought_together</th>\n",
       "    </tr>\n",
       "  </thead>\n",
       "  <tbody>\n",
       "    <tr>\n",
       "      <th>0</th>\n",
       "      <td>All Beauty</td>\n",
       "      <td>Howard LC0008 Leather Conditioner, 8-Ounce (4-...</td>\n",
       "      <td>4.8</td>\n",
       "      <td>10</td>\n",
       "      <td>[]</td>\n",
       "      <td>[]</td>\n",
       "      <td>NaN</td>\n",
       "      <td>[{'thumb': 'https://m.media-amazon.com/images/...</td>\n",
       "      <td>[]</td>\n",
       "      <td>Howard Products</td>\n",
       "      <td>[]</td>\n",
       "      <td>{'Package Dimensions': '7.1 x 5.5 x 3 inches; ...</td>\n",
       "      <td>B01CUPMQZE</td>\n",
       "      <td>None</td>\n",
       "    </tr>\n",
       "    <tr>\n",
       "      <th>1</th>\n",
       "      <td>All Beauty</td>\n",
       "      <td>Yes to Tomatoes Detoxifying Charcoal Cleanser ...</td>\n",
       "      <td>4.5</td>\n",
       "      <td>3</td>\n",
       "      <td>[]</td>\n",
       "      <td>[]</td>\n",
       "      <td>NaN</td>\n",
       "      <td>[{'thumb': 'https://m.media-amazon.com/images/...</td>\n",
       "      <td>[]</td>\n",
       "      <td>Yes To</td>\n",
       "      <td>[]</td>\n",
       "      <td>{'Item Form': 'Powder', 'Skin Type': 'Acne Pro...</td>\n",
       "      <td>B076WQZGPM</td>\n",
       "      <td>None</td>\n",
       "    </tr>\n",
       "    <tr>\n",
       "      <th>2</th>\n",
       "      <td>All Beauty</td>\n",
       "      <td>Eye Patch Black Adult with Tie Band (6 Per Pack)</td>\n",
       "      <td>4.4</td>\n",
       "      <td>26</td>\n",
       "      <td>[]</td>\n",
       "      <td>[]</td>\n",
       "      <td>NaN</td>\n",
       "      <td>[{'thumb': 'https://m.media-amazon.com/images/...</td>\n",
       "      <td>[]</td>\n",
       "      <td>Levine Health Products</td>\n",
       "      <td>[]</td>\n",
       "      <td>{'Manufacturer': 'Levine Health Products'}</td>\n",
       "      <td>B000B658RI</td>\n",
       "      <td>None</td>\n",
       "    </tr>\n",
       "    <tr>\n",
       "      <th>3</th>\n",
       "      <td>All Beauty</td>\n",
       "      <td>Tattoo Eyebrow Stickers, Waterproof Eyebrow, 4...</td>\n",
       "      <td>3.1</td>\n",
       "      <td>102</td>\n",
       "      <td>[]</td>\n",
       "      <td>[]</td>\n",
       "      <td>NaN</td>\n",
       "      <td>[{'thumb': 'https://m.media-amazon.com/images/...</td>\n",
       "      <td>[]</td>\n",
       "      <td>Cherioll</td>\n",
       "      <td>[]</td>\n",
       "      <td>{'Brand': 'Cherioll', 'Item Form': 'Powder', '...</td>\n",
       "      <td>B088FKY3VD</td>\n",
       "      <td>None</td>\n",
       "    </tr>\n",
       "    <tr>\n",
       "      <th>4</th>\n",
       "      <td>All Beauty</td>\n",
       "      <td>Precision Plunger Bars for Cartridge Grips – 9...</td>\n",
       "      <td>4.3</td>\n",
       "      <td>7</td>\n",
       "      <td>[Material: 304 Stainless Steel; Brass tip, Len...</td>\n",
       "      <td>[The Precision Plunger Bars are designed to wo...</td>\n",
       "      <td>NaN</td>\n",
       "      <td>[{'thumb': 'https://m.media-amazon.com/images/...</td>\n",
       "      <td>[]</td>\n",
       "      <td>Precision</td>\n",
       "      <td>[]</td>\n",
       "      <td>{'UPC': '644287689178'}</td>\n",
       "      <td>B07NGFDN6G</td>\n",
       "      <td>None</td>\n",
       "    </tr>\n",
       "  </tbody>\n",
       "</table>\n",
       "</div>"
      ],
      "text/plain": [
       "  main_category                                              title  \\\n",
       "0    All Beauty  Howard LC0008 Leather Conditioner, 8-Ounce (4-...   \n",
       "1    All Beauty  Yes to Tomatoes Detoxifying Charcoal Cleanser ...   \n",
       "2    All Beauty   Eye Patch Black Adult with Tie Band (6 Per Pack)   \n",
       "3    All Beauty  Tattoo Eyebrow Stickers, Waterproof Eyebrow, 4...   \n",
       "4    All Beauty  Precision Plunger Bars for Cartridge Grips – 9...   \n",
       "\n",
       "   average_rating  rating_number  \\\n",
       "0             4.8             10   \n",
       "1             4.5              3   \n",
       "2             4.4             26   \n",
       "3             3.1            102   \n",
       "4             4.3              7   \n",
       "\n",
       "                                            features  \\\n",
       "0                                                 []   \n",
       "1                                                 []   \n",
       "2                                                 []   \n",
       "3                                                 []   \n",
       "4  [Material: 304 Stainless Steel; Brass tip, Len...   \n",
       "\n",
       "                                         description  price  \\\n",
       "0                                                 []    NaN   \n",
       "1                                                 []    NaN   \n",
       "2                                                 []    NaN   \n",
       "3                                                 []    NaN   \n",
       "4  [The Precision Plunger Bars are designed to wo...    NaN   \n",
       "\n",
       "                                              images videos  \\\n",
       "0  [{'thumb': 'https://m.media-amazon.com/images/...     []   \n",
       "1  [{'thumb': 'https://m.media-amazon.com/images/...     []   \n",
       "2  [{'thumb': 'https://m.media-amazon.com/images/...     []   \n",
       "3  [{'thumb': 'https://m.media-amazon.com/images/...     []   \n",
       "4  [{'thumb': 'https://m.media-amazon.com/images/...     []   \n",
       "\n",
       "                    store categories  \\\n",
       "0         Howard Products         []   \n",
       "1                  Yes To         []   \n",
       "2  Levine Health Products         []   \n",
       "3                Cherioll         []   \n",
       "4               Precision         []   \n",
       "\n",
       "                                             details parent_asin  \\\n",
       "0  {'Package Dimensions': '7.1 x 5.5 x 3 inches; ...  B01CUPMQZE   \n",
       "1  {'Item Form': 'Powder', 'Skin Type': 'Acne Pro...  B076WQZGPM   \n",
       "2         {'Manufacturer': 'Levine Health Products'}  B000B658RI   \n",
       "3  {'Brand': 'Cherioll', 'Item Form': 'Powder', '...  B088FKY3VD   \n",
       "4                            {'UPC': '644287689178'}  B07NGFDN6G   \n",
       "\n",
       "  bought_together  \n",
       "0            None  \n",
       "1            None  \n",
       "2            None  \n",
       "3            None  \n",
       "4            None  "
      ]
     },
     "execution_count": 3,
     "metadata": {},
     "output_type": "execute_result"
    }
   ],
   "source": [
    "meta.head()"
   ]
  },
  {
   "cell_type": "code",
   "execution_count": 4,
   "id": "180dcba3-c05b-49b3-b6be-a3f867443072",
   "metadata": {},
   "outputs": [],
   "source": [
    "meta.rename(columns={'title': 'product_description'}, inplace=True)"
   ]
  },
  {
   "cell_type": "code",
   "execution_count": 5,
   "id": "3cec6077-3e7b-4303-ba66-682445216609",
   "metadata": {},
   "outputs": [],
   "source": [
    "#selecting relevant features from meta data\n",
    "meta=meta[['product_description','average_rating','store', 'parent_asin','rating_number']]"
   ]
  },
  {
   "cell_type": "markdown",
   "id": "92e24e9b-6445-40a8-892e-cab440665079",
   "metadata": {},
   "source": [
    "# loading reviews data and converting into dataframe"
   ]
  },
  {
   "cell_type": "code",
   "execution_count": 6,
   "id": "ea9d8367-1334-485f-bd09-5b05423b827b",
   "metadata": {},
   "outputs": [],
   "source": [
    "\n",
    "data=[]\n",
    "\n",
    "file = \"All_Beauty.jsonl\"\n",
    "with open(file, 'r') as fp:\n",
    "    for line in fp:\n",
    "        data.append(json.loads(line.strip()))\n",
    "\n",
    "# Convert the list of dictionaries to a DataFrame\n",
    "review_df = pd.DataFrame(data)\n"
   ]
  },
  {
   "cell_type": "markdown",
   "id": "46db9e87-e990-4991-8ef2-aaa47ce7dc81",
   "metadata": {},
   "source": [
    "# print top 5 rows of data"
   ]
  },
  {
   "cell_type": "code",
   "execution_count": 7,
   "id": "14b98b2b-0b00-414b-84d2-f1e150e7f403",
   "metadata": {},
   "outputs": [
    {
     "data": {
      "text/html": [
       "<div>\n",
       "<style scoped>\n",
       "    .dataframe tbody tr th:only-of-type {\n",
       "        vertical-align: middle;\n",
       "    }\n",
       "\n",
       "    .dataframe tbody tr th {\n",
       "        vertical-align: top;\n",
       "    }\n",
       "\n",
       "    .dataframe thead th {\n",
       "        text-align: right;\n",
       "    }\n",
       "</style>\n",
       "<table border=\"1\" class=\"dataframe\">\n",
       "  <thead>\n",
       "    <tr style=\"text-align: right;\">\n",
       "      <th></th>\n",
       "      <th>rating</th>\n",
       "      <th>title</th>\n",
       "      <th>text</th>\n",
       "      <th>images</th>\n",
       "      <th>asin</th>\n",
       "      <th>parent_asin</th>\n",
       "      <th>user_id</th>\n",
       "      <th>timestamp</th>\n",
       "      <th>helpful_vote</th>\n",
       "      <th>verified_purchase</th>\n",
       "    </tr>\n",
       "  </thead>\n",
       "  <tbody>\n",
       "    <tr>\n",
       "      <th>0</th>\n",
       "      <td>5.0</td>\n",
       "      <td>Such a lovely scent but not overpowering.</td>\n",
       "      <td>This spray is really nice. It smells really go...</td>\n",
       "      <td>[]</td>\n",
       "      <td>B00YQ6X8EO</td>\n",
       "      <td>B00YQ6X8EO</td>\n",
       "      <td>AGKHLEW2SOWHNMFQIJGBECAF7INQ</td>\n",
       "      <td>1588687728923</td>\n",
       "      <td>0</td>\n",
       "      <td>True</td>\n",
       "    </tr>\n",
       "    <tr>\n",
       "      <th>1</th>\n",
       "      <td>4.0</td>\n",
       "      <td>Works great but smells a little weird.</td>\n",
       "      <td>This product does what I need it to do, I just...</td>\n",
       "      <td>[]</td>\n",
       "      <td>B081TJ8YS3</td>\n",
       "      <td>B081TJ8YS3</td>\n",
       "      <td>AGKHLEW2SOWHNMFQIJGBECAF7INQ</td>\n",
       "      <td>1588615855070</td>\n",
       "      <td>1</td>\n",
       "      <td>True</td>\n",
       "    </tr>\n",
       "    <tr>\n",
       "      <th>2</th>\n",
       "      <td>5.0</td>\n",
       "      <td>Yes!</td>\n",
       "      <td>Smells good, feels great!</td>\n",
       "      <td>[]</td>\n",
       "      <td>B07PNNCSP9</td>\n",
       "      <td>B097R46CSY</td>\n",
       "      <td>AE74DYR3QUGVPZJ3P7RFWBGIX7XQ</td>\n",
       "      <td>1589665266052</td>\n",
       "      <td>2</td>\n",
       "      <td>True</td>\n",
       "    </tr>\n",
       "    <tr>\n",
       "      <th>3</th>\n",
       "      <td>1.0</td>\n",
       "      <td>Synthetic feeling</td>\n",
       "      <td>Felt synthetic</td>\n",
       "      <td>[]</td>\n",
       "      <td>B09JS339BZ</td>\n",
       "      <td>B09JS339BZ</td>\n",
       "      <td>AFQLNQNQYFWQZPJQZS6V3NZU4QBQ</td>\n",
       "      <td>1643393630220</td>\n",
       "      <td>0</td>\n",
       "      <td>True</td>\n",
       "    </tr>\n",
       "    <tr>\n",
       "      <th>4</th>\n",
       "      <td>5.0</td>\n",
       "      <td>A+</td>\n",
       "      <td>Love it</td>\n",
       "      <td>[]</td>\n",
       "      <td>B08BZ63GMJ</td>\n",
       "      <td>B08BZ63GMJ</td>\n",
       "      <td>AFQLNQNQYFWQZPJQZS6V3NZU4QBQ</td>\n",
       "      <td>1609322563534</td>\n",
       "      <td>0</td>\n",
       "      <td>True</td>\n",
       "    </tr>\n",
       "  </tbody>\n",
       "</table>\n",
       "</div>"
      ],
      "text/plain": [
       "   rating                                      title  \\\n",
       "0     5.0  Such a lovely scent but not overpowering.   \n",
       "1     4.0     Works great but smells a little weird.   \n",
       "2     5.0                                       Yes!   \n",
       "3     1.0                          Synthetic feeling   \n",
       "4     5.0                                         A+   \n",
       "\n",
       "                                                text images        asin  \\\n",
       "0  This spray is really nice. It smells really go...     []  B00YQ6X8EO   \n",
       "1  This product does what I need it to do, I just...     []  B081TJ8YS3   \n",
       "2                          Smells good, feels great!     []  B07PNNCSP9   \n",
       "3                                     Felt synthetic     []  B09JS339BZ   \n",
       "4                                            Love it     []  B08BZ63GMJ   \n",
       "\n",
       "  parent_asin                       user_id      timestamp  helpful_vote  \\\n",
       "0  B00YQ6X8EO  AGKHLEW2SOWHNMFQIJGBECAF7INQ  1588687728923             0   \n",
       "1  B081TJ8YS3  AGKHLEW2SOWHNMFQIJGBECAF7INQ  1588615855070             1   \n",
       "2  B097R46CSY  AE74DYR3QUGVPZJ3P7RFWBGIX7XQ  1589665266052             2   \n",
       "3  B09JS339BZ  AFQLNQNQYFWQZPJQZS6V3NZU4QBQ  1643393630220             0   \n",
       "4  B08BZ63GMJ  AFQLNQNQYFWQZPJQZS6V3NZU4QBQ  1609322563534             0   \n",
       "\n",
       "   verified_purchase  \n",
       "0               True  \n",
       "1               True  \n",
       "2               True  \n",
       "3               True  \n",
       "4               True  "
      ]
     },
     "execution_count": 7,
     "metadata": {},
     "output_type": "execute_result"
    }
   ],
   "source": [
    "review_df.head()"
   ]
  },
  {
   "cell_type": "code",
   "execution_count": 8,
   "id": "096392d0-d8e4-4e67-b94f-21c847148507",
   "metadata": {},
   "outputs": [],
   "source": [
    "#selecting relevant features from review data\n",
    "review_df=review_df[['user_id','text','title','rating','verified_purchase','helpful_vote','parent_asin','timestamp']]"
   ]
  },
  {
   "cell_type": "markdown",
   "id": "2a0d0f3f-edfb-478e-9506-668b7bad70fe",
   "metadata": {},
   "source": [
    "# combining both datasets based on parent_asin"
   ]
  },
  {
   "cell_type": "code",
   "execution_count": 9,
   "id": "d75e574f-e671-497e-a863-5193debf7494",
   "metadata": {},
   "outputs": [],
   "source": [
    "merged_df = review_df.merge(meta, on='parent_asin', how='inner')"
   ]
  },
  {
   "cell_type": "code",
   "execution_count": 10,
   "id": "2ee027ee-1831-4465-9ea9-7046eb6c341c",
   "metadata": {},
   "outputs": [
    {
     "data": {
      "text/html": [
       "<div>\n",
       "<style scoped>\n",
       "    .dataframe tbody tr th:only-of-type {\n",
       "        vertical-align: middle;\n",
       "    }\n",
       "\n",
       "    .dataframe tbody tr th {\n",
       "        vertical-align: top;\n",
       "    }\n",
       "\n",
       "    .dataframe thead th {\n",
       "        text-align: right;\n",
       "    }\n",
       "</style>\n",
       "<table border=\"1\" class=\"dataframe\">\n",
       "  <thead>\n",
       "    <tr style=\"text-align: right;\">\n",
       "      <th></th>\n",
       "      <th>user_id</th>\n",
       "      <th>text</th>\n",
       "      <th>title</th>\n",
       "      <th>rating</th>\n",
       "      <th>verified_purchase</th>\n",
       "      <th>helpful_vote</th>\n",
       "      <th>parent_asin</th>\n",
       "      <th>timestamp</th>\n",
       "      <th>product_description</th>\n",
       "      <th>average_rating</th>\n",
       "      <th>store</th>\n",
       "      <th>rating_number</th>\n",
       "    </tr>\n",
       "  </thead>\n",
       "  <tbody>\n",
       "    <tr>\n",
       "      <th>0</th>\n",
       "      <td>AGKHLEW2SOWHNMFQIJGBECAF7INQ</td>\n",
       "      <td>This spray is really nice. It smells really go...</td>\n",
       "      <td>Such a lovely scent but not overpowering.</td>\n",
       "      <td>5.0</td>\n",
       "      <td>True</td>\n",
       "      <td>0</td>\n",
       "      <td>B00YQ6X8EO</td>\n",
       "      <td>1588687728923</td>\n",
       "      <td>Herbivore - Natural Sea Mist Texturizing Salt ...</td>\n",
       "      <td>4.3</td>\n",
       "      <td>HERBIVORE</td>\n",
       "      <td>384</td>\n",
       "    </tr>\n",
       "    <tr>\n",
       "      <th>1</th>\n",
       "      <td>AGF2RF5HBCXKEOLTF2LXZTVFYFVQ</td>\n",
       "      <td>This does not work as well as other sea mist h...</td>\n",
       "      <td>Not worth it.</td>\n",
       "      <td>1.0</td>\n",
       "      <td>True</td>\n",
       "      <td>0</td>\n",
       "      <td>B00YQ6X8EO</td>\n",
       "      <td>1667089254927</td>\n",
       "      <td>Herbivore - Natural Sea Mist Texturizing Salt ...</td>\n",
       "      <td>4.3</td>\n",
       "      <td>HERBIVORE</td>\n",
       "      <td>384</td>\n",
       "    </tr>\n",
       "    <tr>\n",
       "      <th>2</th>\n",
       "      <td>AGPWM36OKQCL3PM4MXZNLP4VVJKA</td>\n",
       "      <td>Makes my hair smell amazing and I love the tex...</td>\n",
       "      <td>love</td>\n",
       "      <td>5.0</td>\n",
       "      <td>True</td>\n",
       "      <td>1</td>\n",
       "      <td>B00YQ6X8EO</td>\n",
       "      <td>1455021933000</td>\n",
       "      <td>Herbivore - Natural Sea Mist Texturizing Salt ...</td>\n",
       "      <td>4.3</td>\n",
       "      <td>HERBIVORE</td>\n",
       "      <td>384</td>\n",
       "    </tr>\n",
       "    <tr>\n",
       "      <th>3</th>\n",
       "      <td>AGVVMZD2DJQ7Z3KJJXHFKQHSX7HA</td>\n",
       "      <td>Pros: smells AMAZING like a beachy beverage! (...</td>\n",
       "      <td>Mermaid hair in a bottle</td>\n",
       "      <td>5.0</td>\n",
       "      <td>True</td>\n",
       "      <td>0</td>\n",
       "      <td>B00YQ6X8EO</td>\n",
       "      <td>1623855338155</td>\n",
       "      <td>Herbivore - Natural Sea Mist Texturizing Salt ...</td>\n",
       "      <td>4.3</td>\n",
       "      <td>HERBIVORE</td>\n",
       "      <td>384</td>\n",
       "    </tr>\n",
       "    <tr>\n",
       "      <th>4</th>\n",
       "      <td>AE5VLXANR3ZCUZCQAOBJTIEGMZGA</td>\n",
       "      <td>This product smells divine but it weighs down ...</td>\n",
       "      <td>It makes my curly/wavy hair way too smooth and...</td>\n",
       "      <td>2.0</td>\n",
       "      <td>True</td>\n",
       "      <td>0</td>\n",
       "      <td>B00YQ6X8EO</td>\n",
       "      <td>1623342316264</td>\n",
       "      <td>Herbivore - Natural Sea Mist Texturizing Salt ...</td>\n",
       "      <td>4.3</td>\n",
       "      <td>HERBIVORE</td>\n",
       "      <td>384</td>\n",
       "    </tr>\n",
       "  </tbody>\n",
       "</table>\n",
       "</div>"
      ],
      "text/plain": [
       "                        user_id  \\\n",
       "0  AGKHLEW2SOWHNMFQIJGBECAF7INQ   \n",
       "1  AGF2RF5HBCXKEOLTF2LXZTVFYFVQ   \n",
       "2  AGPWM36OKQCL3PM4MXZNLP4VVJKA   \n",
       "3  AGVVMZD2DJQ7Z3KJJXHFKQHSX7HA   \n",
       "4  AE5VLXANR3ZCUZCQAOBJTIEGMZGA   \n",
       "\n",
       "                                                text  \\\n",
       "0  This spray is really nice. It smells really go...   \n",
       "1  This does not work as well as other sea mist h...   \n",
       "2  Makes my hair smell amazing and I love the tex...   \n",
       "3  Pros: smells AMAZING like a beachy beverage! (...   \n",
       "4  This product smells divine but it weighs down ...   \n",
       "\n",
       "                                               title  rating  \\\n",
       "0          Such a lovely scent but not overpowering.     5.0   \n",
       "1                                      Not worth it.     1.0   \n",
       "2                                               love     5.0   \n",
       "3                           Mermaid hair in a bottle     5.0   \n",
       "4  It makes my curly/wavy hair way too smooth and...     2.0   \n",
       "\n",
       "   verified_purchase  helpful_vote parent_asin      timestamp  \\\n",
       "0               True             0  B00YQ6X8EO  1588687728923   \n",
       "1               True             0  B00YQ6X8EO  1667089254927   \n",
       "2               True             1  B00YQ6X8EO  1455021933000   \n",
       "3               True             0  B00YQ6X8EO  1623855338155   \n",
       "4               True             0  B00YQ6X8EO  1623342316264   \n",
       "\n",
       "                                 product_description  average_rating  \\\n",
       "0  Herbivore - Natural Sea Mist Texturizing Salt ...             4.3   \n",
       "1  Herbivore - Natural Sea Mist Texturizing Salt ...             4.3   \n",
       "2  Herbivore - Natural Sea Mist Texturizing Salt ...             4.3   \n",
       "3  Herbivore - Natural Sea Mist Texturizing Salt ...             4.3   \n",
       "4  Herbivore - Natural Sea Mist Texturizing Salt ...             4.3   \n",
       "\n",
       "       store  rating_number  \n",
       "0  HERBIVORE            384  \n",
       "1  HERBIVORE            384  \n",
       "2  HERBIVORE            384  \n",
       "3  HERBIVORE            384  \n",
       "4  HERBIVORE            384  "
      ]
     },
     "execution_count": 10,
     "metadata": {},
     "output_type": "execute_result"
    }
   ],
   "source": [
    "merged_df.head()"
   ]
  },
  {
   "cell_type": "code",
   "execution_count": 11,
   "id": "44b59ad0-2c50-4dcc-8b66-bd1b9d8cab35",
   "metadata": {},
   "outputs": [
    {
     "data": {
      "text/plain": [
       "(701528, 12)"
      ]
     },
     "execution_count": 11,
     "metadata": {},
     "output_type": "execute_result"
    }
   ],
   "source": [
    "merged_df.shape"
   ]
  },
  {
   "cell_type": "markdown",
   "id": "2c41df6f-9a9d-4dc4-a282-cefe8b69d4ee",
   "metadata": {},
   "source": [
    "# selecting products that contains  more than  2 reviews "
   ]
  },
  {
   "cell_type": "code",
   "execution_count": 12,
   "id": "20214e10-4525-4910-81b9-e3e96704c998",
   "metadata": {},
   "outputs": [],
   "source": [
    "# Get the value counts of the 'parent_asin' column\n",
    "store_counts = merged_df['parent_asin'].value_counts()\n",
    "\n",
    "# Filter the 'store' values where the count is greater than 100\n",
    "valid_stores = store_counts[store_counts > 2].index\n",
    "\n",
    "# Filter the dataset based on the valid 'store' values\n",
    "merged_df = merged_df[merged_df['parent_asin'].isin(valid_stores)]"
   ]
  },
  {
   "cell_type": "markdown",
   "id": "7ca481ec-2361-4b49-86a2-32768b1882c8",
   "metadata": {},
   "source": [
    "# text cleaning"
   ]
  },
  {
   "cell_type": "code",
   "execution_count": 13,
   "id": "b90b9be4-3cc9-42b9-8610-2a31d8f7d943",
   "metadata": {},
   "outputs": [
    {
     "name": "stderr",
     "output_type": "stream",
     "text": [
      "[nltk_data] Downloading package stopwords to\n",
      "[nltk_data]     C:\\Users\\ghufr\\AppData\\Roaming\\nltk_data...\n",
      "[nltk_data]   Package stopwords is already up-to-date!\n",
      "[nltk_data] Downloading package punkt to\n",
      "[nltk_data]     C:\\Users\\ghufr\\AppData\\Roaming\\nltk_data...\n",
      "[nltk_data]   Package punkt is already up-to-date!\n",
      "[nltk_data] Downloading package wordnet to\n",
      "[nltk_data]     C:\\Users\\ghufr\\AppData\\Roaming\\nltk_data...\n",
      "[nltk_data]   Package wordnet is already up-to-date!\n"
     ]
    },
    {
     "name": "stdout",
     "output_type": "stream",
     "text": [
      "                                                text  \\\n",
      "0  This spray is really nice. It smells really go...   \n",
      "1  This does not work as well as other sea mist h...   \n",
      "2  Makes my hair smell amazing and I love the tex...   \n",
      "3  Pros: smells AMAZING like a beachy beverage! (...   \n",
      "4  This product smells divine but it weighs down ...   \n",
      "\n",
      "                                        cleaned_text  \n",
      "0  spray really nice smell really good go really ...  \n",
      "1  work well sea mist hair product give beach hai...  \n",
      "2           make hair smell amazing love texture add  \n",
      "3  pro smell amazing like beachy beverage id say ...  \n",
      "4  product smell divine weighs hair want curlwave...  \n"
     ]
    }
   ],
   "source": [
    "# Download required NLTK data\n",
    "nltk.download('stopwords')\n",
    "nltk.download('punkt')\n",
    "nltk.download('wordnet')\n",
    "\n",
    "# Initialize lemmatizer and stopwords\n",
    "lemmatizer = WordNetLemmatizer()\n",
    "stop_words = set(stopwords.words('english'))\n",
    "\n",
    "# Function to clean text\n",
    "def clean_text(text):\n",
    "    # Convert to lowercase\n",
    "    text = text.lower()\n",
    "    # Remove special characters, numbers, and punctuations\n",
    "    text = re.sub(r'[^a-z\\s]', '', text)\n",
    "    # Tokenize\n",
    "    tokens = word_tokenize(text)\n",
    "    # Remove stopwords and lemmatize\n",
    "    tokens = [lemmatizer.lemmatize(word) for word in tokens if word not in stop_words]\n",
    "    # Join tokens back to a cleaned string\n",
    "    return ' '.join(tokens)\n",
    "\n",
    "# Apply the cleaning function to the 'text' column\n",
    "merged_df['cleaned_text'] = merged_df['text'].apply(clean_text)\n",
    "\n",
    "# Display a sample of the cleaned text\n",
    "print(merged_df[['text', 'cleaned_text']].head())\n"
   ]
  },
  {
   "cell_type": "markdown",
   "id": "12e48314-e124-472c-a9ec-fc8474127624",
   "metadata": {},
   "source": [
    "# sentiment analysis using vader"
   ]
  },
  {
   "cell_type": "code",
   "execution_count": 14,
   "id": "7eacc2e6-bd71-460a-a22d-fc4c79fecd79",
   "metadata": {},
   "outputs": [
    {
     "name": "stderr",
     "output_type": "stream",
     "text": [
      "[nltk_data] Downloading package vader_lexicon to\n",
      "[nltk_data]     C:\\Users\\ghufr\\AppData\\Roaming\\nltk_data...\n",
      "[nltk_data]   Package vader_lexicon is already up-to-date!\n"
     ]
    }
   ],
   "source": [
    "import nltk\n",
    "from nltk.sentiment.vader import SentimentIntensityAnalyzer\n",
    "\n",
    "# Ensure required NLTK data is downloaded\n",
    "nltk.download('vader_lexicon')\n",
    "\n",
    "# Initialize VADER Sentiment Analyzer\n",
    "analyzer = SentimentIntensityAnalyzer()\n",
    "\n",
    "# Function to calculate sentiment score using VADER\n",
    "def calculate_sentiment_score(text):\n",
    "    sentiment = analyzer.polarity_scores(text)  # Get sentiment scores\n",
    "    return sentiment['compound']  # Return the compound score as overall sentiment\n",
    "\n",
    "# Apply the function to calculate sentiment scores for each review\n",
    "merged_df['sentiment_score'] = merged_df['cleaned_text'].apply(calculate_sentiment_score)\n",
    "\n",
    "\n",
    "\n",
    "\n"
   ]
  },
  {
   "cell_type": "code",
   "execution_count": 15,
   "id": "e3abc0b2-312b-4ee7-b0dc-72c1dea81a1b",
   "metadata": {},
   "outputs": [
    {
     "data": {
      "text/plain": [
       "count    614214.000000\n",
       "mean          0.487533\n",
       "std           0.435364\n",
       "min          -0.994900\n",
       "25%           0.226300\n",
       "50%           0.624900\n",
       "75%           0.840200\n",
       "max           0.999700\n",
       "Name: sentiment_score, dtype: float64"
      ]
     },
     "execution_count": 15,
     "metadata": {},
     "output_type": "execute_result"
    }
   ],
   "source": [
    "merged_df['sentiment_score'].describe()"
   ]
  },
  {
   "cell_type": "code",
   "execution_count": 16,
   "id": "e74e116f-73d4-4335-8419-f88baad067c4",
   "metadata": {},
   "outputs": [],
   "source": [
    "# Define Dynamic Sentiment Thresholds\n",
    "# Here we define \"extreme\" based on quantiles of the sentiment scores\n",
    "lower_threshold = merged_df['sentiment_score'].quantile(0.25)  # 25th percentile for negativity\n",
    "upper_threshold = merged_df['sentiment_score'].quantile(0.75)  # 75th percentile for positivity\n",
    "\n",
    "\n",
    "# Feature 2: Uppercase Word Count\n",
    "merged_df['uppercase_count'] = merged_df['text'].apply(lambda x: sum(1 for word in x.split() if word.isupper()))\n",
    "\n",
    "# Feature 3: Review Length\n",
    "merged_df['review_length'] = merged_df['text'].apply(lambda x: len(x.split()))\n"
   ]
  },
  {
   "cell_type": "markdown",
   "id": "40d0dba7-28d2-4078-b52a-2d3c0ac2a150",
   "metadata": {},
   "source": [
    " # creating target feature (review wise)"
   ]
  },
  {
   "cell_type": "code",
   "execution_count": 17,
   "id": "86edfef8-d31e-4545-9c02-26f92abdf3de",
   "metadata": {},
   "outputs": [],
   "source": [
    "\n",
    "# Apply conditions to classify reviews\n",
    "merged_df['extremist'] = (\n",
    "    (merged_df['rating'].isin([1, 4, 5])) &\n",
    "    (merged_df['verified_purchase'] == True) &\n",
    "    ((merged_df['sentiment_score'] < lower_threshold) | (merged_df['sentiment_score'] > upper_threshold))\n",
    ").map({True: 'extremist', False: 'moderate'})\n",
    "\n",
    "\n",
    "\n"
   ]
  },
  {
   "cell_type": "code",
   "execution_count": 18,
   "id": "7982ba6f-6407-4974-a6c9-b0b1abab1207",
   "metadata": {},
   "outputs": [
    {
     "name": "stdout",
     "output_type": "stream",
     "text": [
      "Extremist Reviews Count:\n",
      "extremist\n",
      "moderate     388304\n",
      "extremist    225910\n",
      "Name: count, dtype: int64\n"
     ]
    }
   ],
   "source": [
    "# Analyze the extremist reviews count\n",
    "extremist_count = merged_df['extremist'].value_counts()\n",
    "print(f\"Extremist Reviews Count:\\n{extremist_count}\")"
   ]
  },
  {
   "cell_type": "markdown",
   "id": "ddd25d10-96fa-4084-a79c-c73c641e9967",
   "metadata": {},
   "source": [
    "# Group by 'product' and perform majority voting on the 'extremist' column"
   ]
  },
  {
   "cell_type": "code",
   "execution_count": 20,
   "id": "c7b5089f-aa26-4c35-8cac-1b323f415795",
   "metadata": {},
   "outputs": [
    {
     "data": {
      "text/html": [
       "<div>\n",
       "<style scoped>\n",
       "    .dataframe tbody tr th:only-of-type {\n",
       "        vertical-align: middle;\n",
       "    }\n",
       "\n",
       "    .dataframe tbody tr th {\n",
       "        vertical-align: top;\n",
       "    }\n",
       "\n",
       "    .dataframe thead th {\n",
       "        text-align: right;\n",
       "    }\n",
       "</style>\n",
       "<table border=\"1\" class=\"dataframe\">\n",
       "  <thead>\n",
       "    <tr style=\"text-align: right;\">\n",
       "      <th></th>\n",
       "      <th>user_id</th>\n",
       "      <th>text</th>\n",
       "      <th>title</th>\n",
       "      <th>rating</th>\n",
       "      <th>verified_purchase</th>\n",
       "      <th>helpful_vote</th>\n",
       "      <th>parent_asin</th>\n",
       "      <th>timestamp</th>\n",
       "      <th>product_description</th>\n",
       "      <th>average_rating</th>\n",
       "      <th>store</th>\n",
       "      <th>rating_number</th>\n",
       "      <th>cleaned_text</th>\n",
       "      <th>sentiment_score</th>\n",
       "      <th>uppercase_count</th>\n",
       "      <th>review_length</th>\n",
       "      <th>extremist</th>\n",
       "      <th>majority_extremist</th>\n",
       "    </tr>\n",
       "  </thead>\n",
       "  <tbody>\n",
       "    <tr>\n",
       "      <th>0</th>\n",
       "      <td>AGKHLEW2SOWHNMFQIJGBECAF7INQ</td>\n",
       "      <td>This spray is really nice. It smells really go...</td>\n",
       "      <td>Such a lovely scent but not overpowering.</td>\n",
       "      <td>5.0</td>\n",
       "      <td>True</td>\n",
       "      <td>0</td>\n",
       "      <td>B00YQ6X8EO</td>\n",
       "      <td>1588687728923</td>\n",
       "      <td>Herbivore - Natural Sea Mist Texturizing Salt ...</td>\n",
       "      <td>4.3</td>\n",
       "      <td>HERBIVORE</td>\n",
       "      <td>384</td>\n",
       "      <td>spray really nice smell really good go really ...</td>\n",
       "      <td>0.7846</td>\n",
       "      <td>4</td>\n",
       "      <td>61</td>\n",
       "      <td>moderate</td>\n",
       "      <td>moderate</td>\n",
       "    </tr>\n",
       "    <tr>\n",
       "      <th>1</th>\n",
       "      <td>AGF2RF5HBCXKEOLTF2LXZTVFYFVQ</td>\n",
       "      <td>This does not work as well as other sea mist h...</td>\n",
       "      <td>Not worth it.</td>\n",
       "      <td>1.0</td>\n",
       "      <td>True</td>\n",
       "      <td>0</td>\n",
       "      <td>B00YQ6X8EO</td>\n",
       "      <td>1667089254927</td>\n",
       "      <td>Herbivore - Natural Sea Mist Texturizing Salt ...</td>\n",
       "      <td>4.3</td>\n",
       "      <td>HERBIVORE</td>\n",
       "      <td>384</td>\n",
       "      <td>work well sea mist hair product give beach hai...</td>\n",
       "      <td>0.2732</td>\n",
       "      <td>0</td>\n",
       "      <td>21</td>\n",
       "      <td>moderate</td>\n",
       "      <td>moderate</td>\n",
       "    </tr>\n",
       "    <tr>\n",
       "      <th>2</th>\n",
       "      <td>AGPWM36OKQCL3PM4MXZNLP4VVJKA</td>\n",
       "      <td>Makes my hair smell amazing and I love the tex...</td>\n",
       "      <td>love</td>\n",
       "      <td>5.0</td>\n",
       "      <td>True</td>\n",
       "      <td>1</td>\n",
       "      <td>B00YQ6X8EO</td>\n",
       "      <td>1455021933000</td>\n",
       "      <td>Herbivore - Natural Sea Mist Texturizing Salt ...</td>\n",
       "      <td>4.3</td>\n",
       "      <td>HERBIVORE</td>\n",
       "      <td>384</td>\n",
       "      <td>make hair smell amazing love texture add</td>\n",
       "      <td>0.8402</td>\n",
       "      <td>1</td>\n",
       "      <td>12</td>\n",
       "      <td>moderate</td>\n",
       "      <td>moderate</td>\n",
       "    </tr>\n",
       "    <tr>\n",
       "      <th>3</th>\n",
       "      <td>AGVVMZD2DJQ7Z3KJJXHFKQHSX7HA</td>\n",
       "      <td>Pros: smells AMAZING like a beachy beverage! (...</td>\n",
       "      <td>Mermaid hair in a bottle</td>\n",
       "      <td>5.0</td>\n",
       "      <td>True</td>\n",
       "      <td>0</td>\n",
       "      <td>B00YQ6X8EO</td>\n",
       "      <td>1623855338155</td>\n",
       "      <td>Herbivore - Natural Sea Mist Texturizing Salt ...</td>\n",
       "      <td>4.3</td>\n",
       "      <td>HERBIVORE</td>\n",
       "      <td>384</td>\n",
       "      <td>pro smell amazing like beachy beverage id say ...</td>\n",
       "      <td>0.9397</td>\n",
       "      <td>2</td>\n",
       "      <td>83</td>\n",
       "      <td>extremist</td>\n",
       "      <td>moderate</td>\n",
       "    </tr>\n",
       "    <tr>\n",
       "      <th>4</th>\n",
       "      <td>AE5VLXANR3ZCUZCQAOBJTIEGMZGA</td>\n",
       "      <td>This product smells divine but it weighs down ...</td>\n",
       "      <td>It makes my curly/wavy hair way too smooth and...</td>\n",
       "      <td>2.0</td>\n",
       "      <td>True</td>\n",
       "      <td>0</td>\n",
       "      <td>B00YQ6X8EO</td>\n",
       "      <td>1623342316264</td>\n",
       "      <td>Herbivore - Natural Sea Mist Texturizing Salt ...</td>\n",
       "      <td>4.3</td>\n",
       "      <td>HERBIVORE</td>\n",
       "      <td>384</td>\n",
       "      <td>product smell divine weighs hair want curlwave...</td>\n",
       "      <td>0.8750</td>\n",
       "      <td>2</td>\n",
       "      <td>57</td>\n",
       "      <td>moderate</td>\n",
       "      <td>moderate</td>\n",
       "    </tr>\n",
       "  </tbody>\n",
       "</table>\n",
       "</div>"
      ],
      "text/plain": [
       "                        user_id  \\\n",
       "0  AGKHLEW2SOWHNMFQIJGBECAF7INQ   \n",
       "1  AGF2RF5HBCXKEOLTF2LXZTVFYFVQ   \n",
       "2  AGPWM36OKQCL3PM4MXZNLP4VVJKA   \n",
       "3  AGVVMZD2DJQ7Z3KJJXHFKQHSX7HA   \n",
       "4  AE5VLXANR3ZCUZCQAOBJTIEGMZGA   \n",
       "\n",
       "                                                text  \\\n",
       "0  This spray is really nice. It smells really go...   \n",
       "1  This does not work as well as other sea mist h...   \n",
       "2  Makes my hair smell amazing and I love the tex...   \n",
       "3  Pros: smells AMAZING like a beachy beverage! (...   \n",
       "4  This product smells divine but it weighs down ...   \n",
       "\n",
       "                                               title  rating  \\\n",
       "0          Such a lovely scent but not overpowering.     5.0   \n",
       "1                                      Not worth it.     1.0   \n",
       "2                                               love     5.0   \n",
       "3                           Mermaid hair in a bottle     5.0   \n",
       "4  It makes my curly/wavy hair way too smooth and...     2.0   \n",
       "\n",
       "   verified_purchase  helpful_vote parent_asin      timestamp  \\\n",
       "0               True             0  B00YQ6X8EO  1588687728923   \n",
       "1               True             0  B00YQ6X8EO  1667089254927   \n",
       "2               True             1  B00YQ6X8EO  1455021933000   \n",
       "3               True             0  B00YQ6X8EO  1623855338155   \n",
       "4               True             0  B00YQ6X8EO  1623342316264   \n",
       "\n",
       "                                 product_description  average_rating  \\\n",
       "0  Herbivore - Natural Sea Mist Texturizing Salt ...             4.3   \n",
       "1  Herbivore - Natural Sea Mist Texturizing Salt ...             4.3   \n",
       "2  Herbivore - Natural Sea Mist Texturizing Salt ...             4.3   \n",
       "3  Herbivore - Natural Sea Mist Texturizing Salt ...             4.3   \n",
       "4  Herbivore - Natural Sea Mist Texturizing Salt ...             4.3   \n",
       "\n",
       "       store  rating_number  \\\n",
       "0  HERBIVORE            384   \n",
       "1  HERBIVORE            384   \n",
       "2  HERBIVORE            384   \n",
       "3  HERBIVORE            384   \n",
       "4  HERBIVORE            384   \n",
       "\n",
       "                                        cleaned_text  sentiment_score  \\\n",
       "0  spray really nice smell really good go really ...           0.7846   \n",
       "1  work well sea mist hair product give beach hai...           0.2732   \n",
       "2           make hair smell amazing love texture add           0.8402   \n",
       "3  pro smell amazing like beachy beverage id say ...           0.9397   \n",
       "4  product smell divine weighs hair want curlwave...           0.8750   \n",
       "\n",
       "   uppercase_count  review_length  extremist majority_extremist  \n",
       "0                4             61   moderate           moderate  \n",
       "1                0             21   moderate           moderate  \n",
       "2                1             12   moderate           moderate  \n",
       "3                2             83  extremist           moderate  \n",
       "4                2             57   moderate           moderate  "
      ]
     },
     "execution_count": 20,
     "metadata": {},
     "output_type": "execute_result"
    }
   ],
   "source": [
    "\n",
    "\n",
    "# Step 1: Group by 'product' and perform majority voting on the 'extremist' column\n",
    "majority_extremist = (\n",
    "    merged_df.groupby('parent_asin')['extremist']\n",
    "    .apply(lambda x: x.value_counts().idxmax())\n",
    "    .reset_index()\n",
    "    .rename(columns={'extremist': 'majority_extremist'})\n",
    ")\n",
    "\n",
    "# Step 2: Merge the majority result back to the original dataframe\n",
    "merged_df = merged_df.merge(majority_extremist, on='parent_asin')\n",
    "\n",
    "# Display the updated dataframe\n",
    "merged_df.head()\n"
   ]
  },
  {
   "cell_type": "markdown",
   "id": "88c62d3b-aa61-4bb4-b3eb-b71c6b4343e6",
   "metadata": {},
   "source": [
    "# feature extraction:"
   ]
  },
  {
   "cell_type": "markdown",
   "id": "933d0570-1542-4693-b011-679bd5fceb82",
   "metadata": {},
   "source": [
    "# review count for each product"
   ]
  },
  {
   "cell_type": "code",
   "execution_count": 21,
   "id": "d5eb03e6-e2dc-46fc-b8f1-1c6bff6574ae",
   "metadata": {},
   "outputs": [],
   "source": [
    "# Group by product asin to count the number of reviews per product \n",
    "review_count = merged_df.groupby(['parent_asin']).size().reset_index(name='review_count')\n",
    "\n",
    "# Merge the review_count with the original dataset to add the review count as a new column\n",
    "merged_df = merged_df.merge(review_count, on=['parent_asin'], how='left')\n"
   ]
  },
  {
   "cell_type": "markdown",
   "id": "1a1c5dba-be5d-415d-9244-bf8cf2d2e6ec",
   "metadata": {},
   "source": [
    "# group_time_window"
   ]
  },
  {
   "cell_type": "code",
   "execution_count": 22,
   "id": "d2046b75-eec0-40b1-ae24-5e68512a14ef",
   "metadata": {},
   "outputs": [
    {
     "name": "stdout",
     "output_type": "stream",
     "text": [
      "      parent_asin  Group_Time\n",
      "44160  B09YLXRSNN           0\n",
      "44043  B09WKFTWLG           0\n",
      "40824  B08ZSGJ1H1           0\n",
      "33165  B0881XHZ99           0\n",
      "33123  B087XBFPRQ           0\n"
     ]
    }
   ],
   "source": [
    "# Convert timestamp to datetime for better interpretation\n",
    "merged_df['timestamp'] = pd.to_datetime(merged_df['timestamp'], unit='ms')\n",
    "\n",
    "# Group by 'product' and calculate the Group Time Window (GT)\n",
    "group_time_window = merged_df.groupby('parent_asin')['timestamp'].agg(['min', 'max'])\n",
    "group_time_window['Group_Time'] = (group_time_window['max'] - group_time_window['min']).dt.days\n",
    "\n",
    "# Display the results\n",
    "group_time_window = group_time_window.reset_index()\n",
    "group_time_window = group_time_window[['parent_asin', 'Group_Time']].sort_values(by='Group_Time', ascending=True)\n",
    "\n",
    "\n",
    "# Merge the GT values back into the original dataset\n",
    "merged_df = merged_df.merge(group_time_window, on='parent_asin', how='left')\n",
    "\n",
    "print(group_time_window.head())"
   ]
  },
  {
   "cell_type": "markdown",
   "id": "18175c3a-f0b5-4657-b6db-636ff5ee135d",
   "metadata": {},
   "source": [
    "# avg uppercase_count for each product"
   ]
  },
  {
   "cell_type": "code",
   "execution_count": 23,
   "id": "fcf9a6f3-7690-4e93-9a70-e209ff815ff1",
   "metadata": {},
   "outputs": [],
   "source": [
    "# Calculate Average Upvotes (avg_upvotes) for each product\n",
    "average_uppercase_count = (\n",
    "    merged_df.groupby(['parent_asin'])['uppercase_count']\n",
    "    .mean()\n",
    "    .reset_index(name='average_uppercase_count')\n",
    ")\n",
    "\n",
    "# Merge the average upvotes back into the original dataset\n",
    "merged_df = merged_df.merge(average_uppercase_count, on=[ 'parent_asin'], how='left')\n",
    "\n",
    "\n"
   ]
  },
  {
   "cell_type": "markdown",
   "id": "ec99103f-c0a6-4198-bad1-33844ee5202d",
   "metadata": {},
   "source": [
    "# avg review_length for each product"
   ]
  },
  {
   "cell_type": "code",
   "execution_count": 24,
   "id": "66cd357a-3472-416c-9d4a-e05809801739",
   "metadata": {},
   "outputs": [],
   "source": [
    "# Calculate Average Upvotes (avg_upvotes) for each product\n",
    "average_review_length = (\n",
    "    merged_df.groupby(['parent_asin'])['review_length']\n",
    "    .mean()\n",
    "    .reset_index(name='average_review_length')\n",
    ")\n",
    "\n",
    "# Merge the average upvotes back into the original dataset\n",
    "merged_df = merged_df.merge(average_review_length, on=[ 'parent_asin'], how='left')\n",
    "\n",
    "\n"
   ]
  },
  {
   "cell_type": "markdown",
   "id": "34ce8ec2-04af-473d-9aa6-1e5a1617c6df",
   "metadata": {},
   "source": [
    "# avg_upvotes"
   ]
  },
  {
   "cell_type": "code",
   "execution_count": 25,
   "id": "5abd9e73-8880-487d-9d91-50242ef7d958",
   "metadata": {},
   "outputs": [],
   "source": [
    "# Calculate Average Upvotes (avg_upvotes) for each product\n",
    "average_upvotes = (\n",
    "    merged_df.groupby(['parent_asin'])['helpful_vote']\n",
    "    .mean()\n",
    "    .reset_index(name='avg_upvotes')\n",
    ")\n",
    "\n",
    "# Merge the average upvotes back into the original dataset\n",
    "merged_df = merged_df.merge(average_upvotes, on=[ 'parent_asin'], how='left')\n",
    "\n",
    "\n"
   ]
  },
  {
   "cell_type": "markdown",
   "id": "f45962d6-6794-4cd2-bfb7-7ae54abe01e4",
   "metadata": {},
   "source": [
    "# Average Sentiment"
   ]
  },
  {
   "cell_type": "code",
   "execution_count": 26,
   "id": "b1ee8910-0686-4499-bd59-bba50e43b68c",
   "metadata": {},
   "outputs": [],
   "source": [
    "# Compute Average Sentiment for each product\n",
    "average_sentiment = (\n",
    "    merged_df.groupby([ 'parent_asin'])['sentiment_score']\n",
    "    .mean()\n",
    "    .reset_index(name='avg_sentiment')\n",
    ")\n",
    "# Merge the average upvotes back into the original dataset\n",
    "merged_df = merged_df.merge(average_sentiment, on=[ 'parent_asin'], how='left')\n"
   ]
  },
  {
   "cell_type": "markdown",
   "id": "8fce4784-05da-4340-8578-617e11844de9",
   "metadata": {},
   "source": [
    "# verified purchase ratio"
   ]
  },
  {
   "cell_type": "code",
   "execution_count": 27,
   "id": "39abf5b5-76fa-4937-a612-32513420e88c",
   "metadata": {},
   "outputs": [
    {
     "data": {
      "text/html": [
       "<div>\n",
       "<style scoped>\n",
       "    .dataframe tbody tr th:only-of-type {\n",
       "        vertical-align: middle;\n",
       "    }\n",
       "\n",
       "    .dataframe tbody tr th {\n",
       "        vertical-align: top;\n",
       "    }\n",
       "\n",
       "    .dataframe thead th {\n",
       "        text-align: right;\n",
       "    }\n",
       "</style>\n",
       "<table border=\"1\" class=\"dataframe\">\n",
       "  <thead>\n",
       "    <tr style=\"text-align: right;\">\n",
       "      <th></th>\n",
       "      <th>parent_asin</th>\n",
       "      <th>verified_true_count</th>\n",
       "      <th>total_reviews</th>\n",
       "      <th>verified_purchase_ratio</th>\n",
       "    </tr>\n",
       "  </thead>\n",
       "  <tbody>\n",
       "    <tr>\n",
       "      <th>0</th>\n",
       "      <td>0124784577</td>\n",
       "      <td>3</td>\n",
       "      <td>3</td>\n",
       "      <td>1.000000</td>\n",
       "    </tr>\n",
       "    <tr>\n",
       "      <th>1</th>\n",
       "      <td>069267599X</td>\n",
       "      <td>40</td>\n",
       "      <td>41</td>\n",
       "      <td>0.975610</td>\n",
       "    </tr>\n",
       "    <tr>\n",
       "      <th>2</th>\n",
       "      <td>0816091846</td>\n",
       "      <td>12</td>\n",
       "      <td>14</td>\n",
       "      <td>0.857143</td>\n",
       "    </tr>\n",
       "    <tr>\n",
       "      <th>3</th>\n",
       "      <td>0977949125</td>\n",
       "      <td>2</td>\n",
       "      <td>3</td>\n",
       "      <td>0.666667</td>\n",
       "    </tr>\n",
       "    <tr>\n",
       "      <th>4</th>\n",
       "      <td>0985393300</td>\n",
       "      <td>9</td>\n",
       "      <td>30</td>\n",
       "      <td>0.300000</td>\n",
       "    </tr>\n",
       "  </tbody>\n",
       "</table>\n",
       "</div>"
      ],
      "text/plain": [
       "  parent_asin  verified_true_count  total_reviews  verified_purchase_ratio\n",
       "0  0124784577                    3              3                 1.000000\n",
       "1  069267599X                   40             41                 0.975610\n",
       "2  0816091846                   12             14                 0.857143\n",
       "3  0977949125                    2              3                 0.666667\n",
       "4  0985393300                    9             30                 0.300000"
      ]
     },
     "execution_count": 27,
     "metadata": {},
     "output_type": "execute_result"
    }
   ],
   "source": [
    "# Calculate verified purchase ratio for each parent_asin\n",
    "verified_purchase_ratio = (\n",
    "    merged_df.groupby('parent_asin')['verified_purchase']\n",
    "    .agg(['sum', 'count'])  # Sum of True values and total count\n",
    "    .rename(columns={'sum': 'verified_true_count', 'count': 'total_reviews'})\n",
    ")\n",
    "\n",
    "# Add a ratio column\n",
    "verified_purchase_ratio['verified_purchase_ratio'] = (\n",
    "    verified_purchase_ratio['verified_true_count'] / verified_purchase_ratio['total_reviews']\n",
    ")\n",
    "\n",
    "\n",
    "\n",
    "# Display the result\n",
    "verified_purchase_ratio.reset_index().head()\n"
   ]
  },
  {
   "cell_type": "code",
   "execution_count": 28,
   "id": "4932a63f-6f33-4980-afe1-e8a0cc1e038a",
   "metadata": {},
   "outputs": [],
   "source": [
    "# Merge the average upvotes back into the original dataset\n",
    "merged_df = merged_df.merge(verified_purchase_ratio, on=[ 'parent_asin'], how='left')\n"
   ]
  },
  {
   "cell_type": "markdown",
   "id": "8c13eb91-f9fd-4d9e-aac7-39608cd91562",
   "metadata": {},
   "source": [
    "# rating deviation for each product"
   ]
  },
  {
   "cell_type": "code",
   "execution_count": 29,
   "id": "eb95f6bd-3b80-41a4-80e7-fc2d1bbb141f",
   "metadata": {},
   "outputs": [
    {
     "data": {
      "text/html": [
       "<div>\n",
       "<style scoped>\n",
       "    .dataframe tbody tr th:only-of-type {\n",
       "        vertical-align: middle;\n",
       "    }\n",
       "\n",
       "    .dataframe tbody tr th {\n",
       "        vertical-align: top;\n",
       "    }\n",
       "\n",
       "    .dataframe thead th {\n",
       "        text-align: right;\n",
       "    }\n",
       "</style>\n",
       "<table border=\"1\" class=\"dataframe\">\n",
       "  <thead>\n",
       "    <tr style=\"text-align: right;\">\n",
       "      <th></th>\n",
       "      <th>parent_asin</th>\n",
       "      <th>rating_deviation</th>\n",
       "    </tr>\n",
       "  </thead>\n",
       "  <tbody>\n",
       "    <tr>\n",
       "      <th>0</th>\n",
       "      <td>0124784577</td>\n",
       "      <td>0.888889</td>\n",
       "    </tr>\n",
       "    <tr>\n",
       "      <th>1</th>\n",
       "      <td>069267599X</td>\n",
       "      <td>0.385485</td>\n",
       "    </tr>\n",
       "    <tr>\n",
       "      <th>2</th>\n",
       "      <td>0816091846</td>\n",
       "      <td>0.612245</td>\n",
       "    </tr>\n",
       "    <tr>\n",
       "      <th>3</th>\n",
       "      <td>0977949125</td>\n",
       "      <td>0.000000</td>\n",
       "    </tr>\n",
       "    <tr>\n",
       "      <th>4</th>\n",
       "      <td>0985393300</td>\n",
       "      <td>0.180000</td>\n",
       "    </tr>\n",
       "  </tbody>\n",
       "</table>\n",
       "</div>"
      ],
      "text/plain": [
       "  parent_asin  rating_deviation\n",
       "0  0124784577          0.888889\n",
       "1  069267599X          0.385485\n",
       "2  0816091846          0.612245\n",
       "3  0977949125          0.000000\n",
       "4  0985393300          0.180000"
      ]
     },
     "execution_count": 29,
     "metadata": {},
     "output_type": "execute_result"
    }
   ],
   "source": [
    "# Step 1: Calculate the mean rating for each product\n",
    "product_avg_rating = merged_df.groupby('parent_asin')['rating'].mean().reset_index()\n",
    "product_avg_rating.rename(columns={'rating': 'mean_rating'}, inplace=True)\n",
    "\n",
    "# Step 2: Merge the mean rating back into the original DataFrame\n",
    "merged_df = merged_df.merge(product_avg_rating, on='parent_asin')\n",
    "\n",
    "# Step 3: Compute absolute deviation from the mean\n",
    "merged_df['absolute_deviation'] = abs(merged_df['rating'] - merged_df['mean_rating'])\n",
    "\n",
    "# Step 4: Group by product and calculate the average deviation\n",
    "product_rating_deviation = merged_df.groupby('parent_asin')['absolute_deviation'].mean().reset_index()\n",
    "product_rating_deviation.rename(columns={'absolute_deviation': 'rating_deviation'}, inplace=True)\n",
    "\n",
    "# Display the resulting product-wise rating deviation\n",
    "product_rating_deviation.head()\n"
   ]
  },
  {
   "cell_type": "code",
   "execution_count": 30,
   "id": "a031997d-de72-4e60-b991-d833ec9eba5a",
   "metadata": {},
   "outputs": [],
   "source": [
    "merged_df = merged_df.merge(product_rating_deviation, on=[ 'parent_asin'], how='left')"
   ]
  },
  {
   "cell_type": "markdown",
   "id": "41ea7dbc-f41d-41cb-be3c-74fe5ffec34f",
   "metadata": {},
   "source": [
    "# selecting final features"
   ]
  },
  {
   "cell_type": "code",
   "execution_count": 31,
   "id": "ed052dc6-5136-46f2-af74-887a7cde39d2",
   "metadata": {},
   "outputs": [],
   "source": [
    "merged_df=merged_df[['parent_asin', 'review_count','average_uppercase_count','average_review_length',\n",
    "       'Group_Time', 'avg_upvotes', 'avg_sentiment', 'verified_true_count',\n",
    "       'total_reviews', 'verified_purchase_ratio', 'mean_rating',\n",
    "        'rating_deviation','majority_extremist']]"
   ]
  },
  {
   "cell_type": "code",
   "execution_count": 32,
   "id": "e8111937-11ff-402d-81bd-cc6028c300d3",
   "metadata": {},
   "outputs": [],
   "source": [
    "final=merged_df.drop_duplicates()"
   ]
  },
  {
   "cell_type": "code",
   "execution_count": 33,
   "id": "2a5c4aef-39ff-4680-b318-75ca0498fb0f",
   "metadata": {},
   "outputs": [
    {
     "data": {
      "text/plain": [
       "majority_extremist\n",
       "moderate     33645\n",
       "extremist    11480\n",
       "Name: count, dtype: int64"
      ]
     },
     "execution_count": 33,
     "metadata": {},
     "output_type": "execute_result"
    }
   ],
   "source": [
    "final['majority_extremist'].value_counts()"
   ]
  },
  {
   "cell_type": "code",
   "execution_count": 34,
   "id": "7da5a6de-e4c3-4c98-b1de-7eb6457364f9",
   "metadata": {},
   "outputs": [],
   "source": [
    "final=final.reset_index(drop=True)"
   ]
  },
  {
   "cell_type": "code",
   "execution_count": 35,
   "id": "3ced6c7a-4ea8-46da-add9-a3aad5e9b28a",
   "metadata": {},
   "outputs": [],
   "source": [
    "final.to_csv('preprocessed_labeled_data.csv')"
   ]
  },
  {
   "cell_type": "code",
   "execution_count": null,
   "id": "2bcd45b5-855f-4c22-8e5b-cba0cbd04be4",
   "metadata": {},
   "outputs": [],
   "source": []
  }
 ],
 "metadata": {
  "kernelspec": {
   "display_name": "Python 3 (ipykernel)",
   "language": "python",
   "name": "python3"
  },
  "language_info": {
   "codemirror_mode": {
    "name": "ipython",
    "version": 3
   },
   "file_extension": ".py",
   "mimetype": "text/x-python",
   "name": "python",
   "nbconvert_exporter": "python",
   "pygments_lexer": "ipython3",
   "version": "3.11.7"
  }
 },
 "nbformat": 4,
 "nbformat_minor": 5
}
